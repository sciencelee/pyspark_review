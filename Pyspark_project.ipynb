{
  "nbformat": 4,
  "nbformat_minor": 0,
  "metadata": {
    "colab": {
      "name": "Pyspark_project.ipynb",
      "provenance": [],
      "collapsed_sections": []
    },
    "kernelspec": {
      "name": "python3",
      "display_name": "Python 3"
    },
    "language_info": {
      "name": "python"
    }
  },
  "cells": [
    {
      "cell_type": "markdown",
      "metadata": {
        "id": "81E6OxKagQKy"
      },
      "source": [
        "## 1) Run bash commands to install Java, Spark, and Findspark. \n",
        "To use Google Colab, we have to install packages before we start our session. It's quick and easy. The code below uses bash commands to install Apache Spark 2.4.7, Java 8, and Findspark. (Note: This is an older version of Spark that works well with my setup, you can use newer versions like 3.0.0)"
      ]
    },
    {
      "cell_type": "code",
      "metadata": {
        "colab": {
          "base_uri": "https://localhost:8080/"
        },
        "id": "n4tL5wrkpGZM",
        "outputId": "f4f40745-b1dd-465c-efd6-2a454d1d3181"
      },
      "source": [
        "!sudo apt update\n",
        "!apt-get install openjdk-8-jdk-headless -qq > /dev/null\n",
        "!wget -q https://downloads.apache.org/spark/spark-2.4.7/spark-2.4.7-bin-hadoop2.7.tgz\n",
        "!tar xf spark-2.4.7-bin-hadoop2.7.tgz\n",
        "!pip install -q findspark"
      ],
      "execution_count": 1,
      "outputs": [
        {
          "output_type": "stream",
          "text": [
            "\u001b[33m\r0% [Working]\u001b[0m\r            \rIgn:1 https://developer.download.nvidia.com/compute/cuda/repos/ubuntu1804/x86_64  InRelease\n",
            "\u001b[33m\r0% [Connecting to archive.ubuntu.com] [Connecting to security.ubuntu.com] [Conn\u001b[0m\r                                                                               \rIgn:2 https://developer.download.nvidia.com/compute/machine-learning/repos/ubuntu1804/x86_64  InRelease\n",
            "\u001b[33m\r0% [Connecting to archive.ubuntu.com] [Connecting to security.ubuntu.com] [Conn\u001b[0m\r                                                                               \rHit:3 https://developer.download.nvidia.com/compute/cuda/repos/ubuntu1804/x86_64  Release\n",
            "\u001b[33m\r0% [Connecting to archive.ubuntu.com (91.189.88.142)] [Connecting to security.u\u001b[0m\u001b[33m\r0% [Release.gpg gpgv 697 B] [Connecting to archive.ubuntu.com (91.189.88.142)] \u001b[0m\r                                                                               \rHit:4 https://developer.download.nvidia.com/compute/machine-learning/repos/ubuntu1804/x86_64  Release\n",
            "\u001b[33m\r0% [Release.gpg gpgv 697 B] [Connecting to archive.ubuntu.com (91.189.88.142)] \u001b[0m\r                                                                               \rHit:5 https://cloud.r-project.org/bin/linux/ubuntu bionic-cran40/ InRelease\n",
            "Get:7 http://security.ubuntu.com/ubuntu bionic-security InRelease [88.7 kB]\n",
            "Hit:9 http://archive.ubuntu.com/ubuntu bionic InRelease\n",
            "Get:10 http://archive.ubuntu.com/ubuntu bionic-updates InRelease [88.7 kB]\n",
            "Hit:11 http://ppa.launchpad.net/c2d4u.team/c2d4u4.0+/ubuntu bionic InRelease\n",
            "Hit:12 http://ppa.launchpad.net/cran/libgit2/ubuntu bionic InRelease\n",
            "Get:13 http://archive.ubuntu.com/ubuntu bionic-backports InRelease [74.6 kB]\n",
            "Hit:14 http://ppa.launchpad.net/deadsnakes/ppa/ubuntu bionic InRelease\n",
            "Hit:15 http://ppa.launchpad.net/graphics-drivers/ppa/ubuntu bionic InRelease\n",
            "Fetched 252 kB in 1s (175 kB/s)\n",
            "Reading package lists... Done\n",
            "Building dependency tree       \n",
            "Reading state information... Done\n",
            "69 packages can be upgraded. Run 'apt list --upgradable' to see them.\n"
          ],
          "name": "stdout"
        }
      ]
    },
    {
      "cell_type": "markdown",
      "metadata": {
        "id": "DFIqYHuzq7cN"
      },
      "source": [
        "## 2) Set environment variables\n",
        "This code sets up the locations of your Java and Spark installs."
      ]
    },
    {
      "cell_type": "code",
      "metadata": {
        "id": "40njXZZjpa8w"
      },
      "source": [
        "import os\n",
        "os.environ[\"JAVA_HOME\"] = \"/usr/lib/jvm/java-1.8.0-openjdk-amd64\"\n",
        "os.environ[\"SPARK_HOME\"] = \"/content/spark-2.4.7-bin-hadoop2.7\""
      ],
      "execution_count": 2,
      "outputs": []
    },
    {
      "cell_type": "markdown",
      "metadata": {
        "id": "-SJb15vVrJtA"
      },
      "source": [
        "## 3) Start Findspark\n",
        "Findspark is a library that let's Python easily find Spark. This just makes our lives easier."
      ]
    },
    {
      "cell_type": "code",
      "metadata": {
        "id": "CmqQq4O2rQ6-"
      },
      "source": [
        "import findspark\n",
        "findspark.init()"
      ],
      "execution_count": 3,
      "outputs": []
    },
    {
      "cell_type": "markdown",
      "metadata": {
        "id": "7W5xDWF4rWI9"
      },
      "source": [
        "## 4) Make a SparkSession\n",
        "This is the big step that starts the PySpark session in Google Colab. This will create a session called 'spark' on the Google server."
      ]
    },
    {
      "cell_type": "code",
      "metadata": {
        "id": "ZYwrNlDbrUIp"
      },
      "source": [
        "# import necessary libraries\n",
        "from pyspark import SparkContext\n",
        "from pyspark.sql import SparkSession, Window, Row\n",
        "from pyspark.sql.functions import *\n",
        "from pyspark.sql.types import *\n",
        "import matplotlib.pyplot as plt\n",
        "\n",
        "\n",
        "sc = SparkContext('local[*]')\n",
        "spark = SparkSession(sc)"
      ],
      "execution_count": 4,
      "outputs": []
    },
    {
      "cell_type": "code",
      "metadata": {
        "id": "mpydmrmrrktc"
      },
      "source": [
        ""
      ],
      "execution_count": null,
      "outputs": []
    },
    {
      "cell_type": "markdown",
      "metadata": {
        "id": "Inei5aOmrndm"
      },
      "source": [
        "# 6) Upload files\n",
        "You might now want to put some datafiles or libraries into your project.\n",
        "The code below will give you a form for inserting it.  You can find the files in the folder to the left after upload.  Then they are ready for import or read."
      ]
    },
    {
      "cell_type": "code",
      "metadata": {
        "colab": {
          "resources": {
            "http://localhost:8080/nbextensions/google.colab/files.js": {
              "data": "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",
              "ok": true,
              "headers": [
                [
                  "content-type",
                  "application/javascript"
                ]
              ],
              "status": 200,
              "status_text": ""
            }
          },
          "base_uri": "https://localhost:8080/",
          "height": 55
        },
        "id": "_jOfIpenrrxL",
        "outputId": "c06def5c-3c25-4b12-d7c1-7bc433dc1536"
      },
      "source": [
        "from google.colab import files\n",
        "files.upload()"
      ],
      "execution_count": 5,
      "outputs": [
        {
          "output_type": "display_data",
          "data": {
            "text/html": [
              "\n",
              "     <input type=\"file\" id=\"files-bc0d4e76-4000-4db3-8dce-858133a5017d\" name=\"files[]\" multiple disabled\n",
              "        style=\"border:none\" />\n",
              "     <output id=\"result-bc0d4e76-4000-4db3-8dce-858133a5017d\">\n",
              "      Upload widget is only available when the cell has been executed in the\n",
              "      current browser session. Please rerun this cell to enable.\n",
              "      </output>\n",
              "      <script src=\"/nbextensions/google.colab/files.js\"></script> "
            ],
            "text/plain": [
              "<IPython.core.display.HTML object>"
            ]
          },
          "metadata": {
            "tags": []
          }
        },
        {
          "output_type": "execute_result",
          "data": {
            "text/plain": [
              "{}"
            ]
          },
          "metadata": {
            "tags": []
          },
          "execution_count": 5
        }
      ]
    },
    {
      "cell_type": "code",
      "metadata": {
        "id": "NNcfiTqkrvKC"
      },
      "source": [
        "def load_dataframe(filename):\n",
        "    df = spark.read.format('csv').options(header='true').load(filename)\n",
        "    return df\n",
        "\n",
        "#creating a dataframe\n",
        "df_matches = load_dataframe('./drive/MyDrive/Matches.csv')"
      ],
      "execution_count": 11,
      "outputs": []
    },
    {
      "cell_type": "code",
      "metadata": {
        "colab": {
          "base_uri": "https://localhost:8080/"
        },
        "id": "4qsYljuyutnS",
        "outputId": "d4926fe1-dd90-4641-fb88-db9c9c990a5a"
      },
      "source": [
        "df_matches.limit(5).show()"
      ],
      "execution_count": 12,
      "outputs": [
        {
          "output_type": "stream",
          "text": [
            "+--------+---+------+----------+-------------+--------------+----+----+---+\n",
            "|Match_ID|Div|Season|      Date|     HomeTeam|      AwayTeam|FTHG|FTAG|FTR|\n",
            "+--------+---+------+----------+-------------+--------------+----+----+---+\n",
            "|       1| D2|  2009|2010-04-04|   Oberhausen|Kaiserslautern|   2|   1|  H|\n",
            "|       2| D2|  2009|2009-11-01|  Munich 1860|Kaiserslautern|   0|   1|  A|\n",
            "|       3| D2|  2009|2009-10-04|Frankfurt FSV|Kaiserslautern|   1|   1|  D|\n",
            "|       4| D2|  2009|2010-02-21|Frankfurt FSV|     Karlsruhe|   2|   1|  H|\n",
            "|       5| D2|  2009|2009-12-06|        Ahlen|     Karlsruhe|   1|   3|  A|\n",
            "+--------+---+------+----------+-------------+--------------+----+----+---+\n",
            "\n"
          ],
          "name": "stdout"
        }
      ]
    },
    {
      "cell_type": "code",
      "metadata": {
        "id": "NJ_IOhgnvOsy"
      },
      "source": [
        "#lets rename some of the columns\n",
        "old_cols = df_matches.columns[-3:]\n",
        "new_cols = [\"HomeTeamGoals\", \"AwayTeamGoals\", \"FinalResult\"]\n",
        "old_new_cols = [*zip(old_cols, new_cols)]\n",
        "for old_col, new_col in old_new_cols:\n",
        "    df_matches = df_matches.withColumnRenamed(old_col, new_col)"
      ],
      "execution_count": 13,
      "outputs": []
    },
    {
      "cell_type": "code",
      "metadata": {
        "colab": {
          "base_uri": "https://localhost:8080/"
        },
        "id": "-aR4f0zFvm4Y",
        "outputId": "837946fa-e258-4495-ab1f-314308b7376f"
      },
      "source": [
        "df_matches.limit(5).show()"
      ],
      "execution_count": 14,
      "outputs": [
        {
          "output_type": "stream",
          "text": [
            "+--------+---+------+----------+-------------+--------------+-------------+-------------+-----------+\n",
            "|Match_ID|Div|Season|      Date|     HomeTeam|      AwayTeam|HomeTeamGoals|AwayTeamGoals|FinalResult|\n",
            "+--------+---+------+----------+-------------+--------------+-------------+-------------+-----------+\n",
            "|       1| D2|  2009|2010-04-04|   Oberhausen|Kaiserslautern|            2|            1|          H|\n",
            "|       2| D2|  2009|2009-11-01|  Munich 1860|Kaiserslautern|            0|            1|          A|\n",
            "|       3| D2|  2009|2009-10-04|Frankfurt FSV|Kaiserslautern|            1|            1|          D|\n",
            "|       4| D2|  2009|2010-02-21|Frankfurt FSV|     Karlsruhe|            2|            1|          H|\n",
            "|       5| D2|  2009|2009-12-06|        Ahlen|     Karlsruhe|            1|            3|          A|\n",
            "+--------+---+------+----------+-------------+--------------+-------------+-------------+-----------+\n",
            "\n"
          ],
          "name": "stdout"
        }
      ]
    },
    {
      "cell_type": "code",
      "metadata": {
        "id": "pZ3r89H-voxc"
      },
      "source": [
        ""
      ],
      "execution_count": null,
      "outputs": []
    },
    {
      "cell_type": "markdown",
      "metadata": {
        "id": "rWDJwaI7v9oZ"
      },
      "source": [
        "# Q1) Who are the winners of the D1 division in the Germany Football Association (Bundesliga) between 2000–2010?\n",
        "\n",
        "To answer this question, it requires a bit of data manipulation. I have chosen the most straight forward approach so it’s easier to follow. The design is to aggregate the home and away game results separately creating two dataframes: home and away."
      ]
    },
    {
      "cell_type": "code",
      "metadata": {
        "id": "bjH1ZZcjv-VL"
      },
      "source": [
        "df_matches = df_matches \\\n",
        "    .withColumn('HomeTeamWin', when(col('FinalResult') == 'H', 1).otherwise(0)) \\\n",
        "    .withColumn('AwayTeamWin', when(col('FinalResult') == 'A', 1).otherwise(0)) \\\n",
        "    .withColumn('GameTie', when(col('FinalResult') == 'D', 1).otherwise(0))\n",
        "\n",
        "\n",
        "#bundesliga is a D1 division and we are interested in season <= 2010 and >= 2000\n",
        "bundesliga = df_matches \\\n",
        "                    .filter((col('Season') >= 2000) & \n",
        "                            (col('Season') <= 2010) & \n",
        "                            (col('Div') == 'D1'))\n",
        "\n",
        "# home team features\n",
        "home = bundesliga.groupby('Season', 'HomeTeam') \\\n",
        "       .agg(sum('HomeTeamWin').alias('TotalHomeWin'),\n",
        "            sum('AwayTeamWin').alias('TotalHomeLoss'),\n",
        "            sum('GameTie').alias('TotalHomeTie'),\n",
        "            sum('HomeTeamGoals').alias('HomeScoredGoals'),\n",
        "            sum('AwayTeamGoals').alias('HomeAgainstGoals')) \\\n",
        "       .withColumnRenamed('HomeTeam', 'Team')\n",
        "\n",
        "#away game features \n",
        "away =  bundesliga.groupby('Season', 'AwayTeam') \\\n",
        "       .agg(sum('AwayTeamWin').alias('TotalAwayWin'),\n",
        "            sum('HomeTeamWin').alias('TotalAwayLoss'),\n",
        "            sum('GameTie').alias('TotalAwayTie'),\n",
        "            sum('AwayTeamGoals').alias('AwayScoredGoals'),\n",
        "            sum('HomeTeamGoals').alias('AwayAgainstGoals'))  \\\n",
        "       .withColumnRenamed('AwayTeam', 'Team')"
      ],
      "execution_count": 23,
      "outputs": []
    },
    {
      "cell_type": "code",
      "metadata": {
        "id": "eSuTVXTOwP0I"
      },
      "source": [
        ""
      ],
      "execution_count": 23,
      "outputs": []
    },
    {
      "cell_type": "markdown",
      "metadata": {
        "id": "jNREcsUswXr6"
      },
      "source": [
        "Then, inner join them on ‘Team’ and ‘Season’ fields to create a single dataframe containing game level aggregation: table. After that, I use a basic window function to further aggregate game statistics on season level and rank them based on winning percentage and goal differentials. The reason why I added goal differentials is because it’s used as a tie-breaker in soccer."
      ]
    },
    {
      "cell_type": "code",
      "metadata": {
        "id": "APusAZcrwYWJ"
      },
      "source": [
        "#season features\n",
        "window = ['Season']\n",
        "window = Window.partitionBy(window).orderBy(col('WinPct').desc(), col('GoalDifferentials').desc())\n",
        "\n",
        "# join the home and away together again on the team and season\n",
        "table = home.join(away, ['Team', 'Season'],  'inner') \\\n",
        "    .withColumn('GoalsScored', col('HomeScoredGoals') + col('AwayScoredGoals')) \\\n",
        "    .withColumn('GoalsAgainst', col('HomeAgainstGoals') + col('AwayAgainstGoals')) \\\n",
        "    .withColumn('GoalDifferentials', col('GoalsScored') - col('GoalsAgainst')) \\\n",
        "    .withColumn('Win', col('TotalHomeWin') + col('TotalAwayWin')) \\\n",
        "    .withColumn('Loss', col('TotalHomeLoss') + col('TotalAwayLoss')) \\\n",
        "    .withColumn('Tie', col('TotalHomeTie') + col('TotalAwayTie')) \\\n",
        "    .withColumn('WinPct', round((100* col('Win')/(col('Win') + col('Loss') + col('Tie'))), 2)) \\\n",
        "    .drop('HomeScoredGoals', 'AwayScoredGoals', 'HomeAgainstGoals', 'AwayAgainstGoals') \\\n",
        "    .drop('TotalHomeWin', 'TotalAwayWin', 'TotalHomeLoss', 'TotalAwayLoss', 'TotalHomeTie', 'TotalAwayTie') \\\n",
        "    .withColumn('TeamPosition', rank().over(window)) \n",
        "\n"
      ],
      "execution_count": 27,
      "outputs": []
    },
    {
      "cell_type": "code",
      "metadata": {
        "colab": {
          "base_uri": "https://localhost:8080/"
        },
        "id": "NoGx_YP0wc0I",
        "outputId": "c2b2ce4e-02b0-443c-abb3-76191daf405b"
      },
      "source": [
        "table = table.filter(col('TeamPosition') == 1).orderBy(asc('Season'))\n",
        "table.show() # no limit just shows the whole table"
      ],
      "execution_count": 28,
      "outputs": [
        {
          "output_type": "stream",
          "text": [
            "+-------------+------+-----------+------------+-----------------+---+----+---+------+------------+\n",
            "|         Team|Season|GoalsScored|GoalsAgainst|GoalDifferentials|Win|Loss|Tie|WinPct|TeamPosition|\n",
            "+-------------+------+-----------+------------+-----------------+---+----+---+------+------------+\n",
            "|Bayern Munich|  2000|       62.0|        37.0|             25.0| 19|   9|  6| 55.88|           1|\n",
            "|   Leverkusen|  2001|       77.0|        38.0|             39.0| 21|   7|  6| 61.76|           1|\n",
            "|Bayern Munich|  2002|       70.0|        25.0|             45.0| 23|   5|  6| 67.65|           1|\n",
            "|Werder Bremen|  2003|       79.0|        38.0|             41.0| 22|   4|  8| 64.71|           1|\n",
            "|Bayern Munich|  2004|       75.0|        33.0|             42.0| 24|   5|  5| 70.59|           1|\n",
            "|Bayern Munich|  2005|       67.0|        32.0|             35.0| 22|   3|  9| 64.71|           1|\n",
            "|    Stuttgart|  2006|       61.0|        37.0|             24.0| 21|   6|  7| 61.76|           1|\n",
            "|Bayern Munich|  2007|       68.0|        21.0|             47.0| 22|   2| 10| 64.71|           1|\n",
            "|    Wolfsburg|  2008|       80.0|        41.0|             39.0| 21|   7|  6| 61.76|           1|\n",
            "|Bayern Munich|  2009|       72.0|        31.0|             41.0| 20|   4| 10| 58.82|           1|\n",
            "|     Dortmund|  2010|       67.0|        22.0|             45.0| 23|   5|  6| 67.65|           1|\n",
            "+-------------+------+-----------+------------+-----------------+---+----+---+------+------------+\n",
            "\n"
          ],
          "name": "stdout"
        }
      ]
    },
    {
      "cell_type": "code",
      "metadata": {
        "id": "-U6tNxOuySiB"
      },
      "source": [
        ""
      ],
      "execution_count": null,
      "outputs": []
    },
    {
      "cell_type": "markdown",
      "metadata": {
        "id": "6TsHRzqzyWzL"
      },
      "source": [
        "These are my champions from 2000 to 2010.  Bayern won 6 times."
      ]
    },
    {
      "cell_type": "markdown",
      "metadata": {
        "id": "nVprkwJY1AMu"
      },
      "source": [
        "# Does Octoberfest affect the number of goals?"
      ]
    },
    {
      "cell_type": "code",
      "metadata": {
        "colab": {
          "base_uri": "https://localhost:8080/"
        },
        "id": "3abRTj_qybIK",
        "outputId": "fe0e555b-f952-4aa5-cebb-adf59a0ed9db"
      },
      "source": [
        "\n",
        "oktoberfest = df_matches \\\n",
        "                .filter(col('Div') == 'D1') \\\n",
        "                .filter((col('Season') >= 2000) &(col('Season') <= 2010)) \\\n",
        "                .withColumn('Month', month(col('Date'))) \\\n",
        "                .groupby('Month') \\\n",
        "                .agg(sum(col('HomeTeamGoals') + col('AwayTeamGoals')).alias('Goals'),\n",
        "                     sum('GameTie').alias('GameTie'),\n",
        "                     count(col('FinalResult')).alias('Total')) \\\n",
        "                .withColumn('Goals_to_games_ratio', round(col('Goals')/col('Total'), 1)) \\\n",
        "                .withColumn('GameTie_to_games_ratio', round(col('GameTie')/col('Total'), 1))\n",
        "\n",
        "oktoberfest.show()\n"
      ],
      "execution_count": 31,
      "outputs": [
        {
          "output_type": "stream",
          "text": [
            "+-----+------+-------+-----+--------------------+----------------------+\n",
            "|Month| Goals|GameTie|Total|Goals_to_games_ratio|GameTie_to_games_ratio|\n",
            "+-----+------+-------+-----+--------------------+----------------------+\n",
            "|   12| 813.0|     91|  290|                 2.8|                   0.3|\n",
            "|    1| 386.0|     27|  140|                 2.8|                   0.2|\n",
            "|    3|1076.0|     96|  386|                 2.8|                   0.2|\n",
            "|    5| 993.0|     65|  308|                 3.2|                   0.2|\n",
            "|    9|1027.0|     91|  364|                 2.8|                   0.3|\n",
            "|    4|1138.0|     90|  416|                 2.7|                   0.2|\n",
            "|    8| 871.0|     82|  298|                 2.9|                   0.3|\n",
            "|    7|  14.0|      2|    8|                 1.8|                   0.3|\n",
            "|   10|1036.0|     81|  354|                 2.9|                   0.2|\n",
            "|   11|1160.0|     92|  387|                 3.0|                   0.2|\n",
            "|    2|1108.0|    110|  415|                 2.7|                   0.3|\n",
            "+-----+------+-------+-----+--------------------+----------------------+\n",
            "\n"
          ],
          "name": "stdout"
        }
      ]
    },
    {
      "cell_type": "code",
      "metadata": {
        "colab": {
          "base_uri": "https://localhost:8080/",
          "height": 584
        },
        "id": "yHpvv_H-1MDD",
        "outputId": "e536178f-61bc-450a-9ce2-6fd25ced16e9"
      },
      "source": [
        "oktoberfest = oktoberfest.sort(\"Month\")\n",
        "oktoberfest.show(truncate=False)\n",
        "\n",
        "# can't plot in pyspark, so we bring it to pandas\n",
        "oktoberfest_df = oktoberfest.toPandas()\n",
        "\n",
        "# oktoberfest_df = oktoberfest_df.sort_values('Month')\n",
        "#oktoberfest_df['Month'] = [calendar.month_name[val] for val in oktoberfest_df.Month.tolist()]\n",
        "months = {1:'Janauary',\n",
        "\t\t2:'February',\n",
        "\t\t3:'March',\n",
        "\t\t4:'April',\n",
        "\t\t5:'May',\n",
        "\t\t6:'June',\n",
        "\t\t7:'July',\n",
        "\t\t8:'August',\n",
        "\t\t9:'September',\n",
        "\t\t10:'October',\n",
        "\t\t11:'November',\n",
        "\t\t12:'December'}\n",
        "\n",
        "oktoberfest_df['MonthName'] = oktoberfest_df[\"Month\"].map(months)\n",
        "oktoberfest_df.set_index('Month', drop=True, inplace=True)\n",
        "oktoberfest_df['Goals_to_games_ratio'].plot.bar(rot=0, color='red', figsize=(12, 4))\n",
        "plt.xticks([x for x in range(12)], oktoberfest_df['MonthName'], rotation=40)\n",
        "plt.ylabel('Goals Per Game')\n",
        "plt.show()"
      ],
      "execution_count": 46,
      "outputs": [
        {
          "output_type": "stream",
          "text": [
            "+-----+------+-------+-----+--------------------+----------------------+\n",
            "|Month|Goals |GameTie|Total|Goals_to_games_ratio|GameTie_to_games_ratio|\n",
            "+-----+------+-------+-----+--------------------+----------------------+\n",
            "|1    |386.0 |27     |140  |2.8                 |0.2                   |\n",
            "|2    |1108.0|110    |415  |2.7                 |0.3                   |\n",
            "|3    |1076.0|96     |386  |2.8                 |0.2                   |\n",
            "|4    |1138.0|90     |416  |2.7                 |0.2                   |\n",
            "|5    |993.0 |65     |308  |3.2                 |0.2                   |\n",
            "|7    |14.0  |2      |8    |1.8                 |0.3                   |\n",
            "|8    |871.0 |82     |298  |2.9                 |0.3                   |\n",
            "|9    |1027.0|91     |364  |2.8                 |0.3                   |\n",
            "|10   |1036.0|81     |354  |2.9                 |0.2                   |\n",
            "|11   |1160.0|92     |387  |3.0                 |0.2                   |\n",
            "|12   |813.0 |91     |290  |2.8                 |0.3                   |\n",
            "+-----+------+-------+-----+--------------------+----------------------+\n",
            "\n"
          ],
          "name": "stdout"
        },
        {
          "output_type": "display_data",
          "data": {
            "image/png": "[encoded data removed]",
            "text/plain": [
              "<Figure size 864x288 with 1 Axes>"
            ]
          },
          "metadata": {
            "tags": [],
            "needs_background": "light"
          }
        }
      ]
    },
    {
      "cell_type": "code",
      "metadata": {
        "id": "u0WNNOir339g"
      },
      "source": [
        ""
      ],
      "execution_count": null,
      "outputs": []
    },
    {
      "cell_type": "markdown",
      "metadata": {
        "id": "FtwJKGYD7yBN"
      },
      "source": [
        "There is no June.  I'm not familiar with German soccer."
      ]
    },
    {
      "cell_type": "code",
      "metadata": {
        "id": "Y3vWaQMh75kc"
      },
      "source": [
        ""
      ],
      "execution_count": null,
      "outputs": []
    }
  ]
}